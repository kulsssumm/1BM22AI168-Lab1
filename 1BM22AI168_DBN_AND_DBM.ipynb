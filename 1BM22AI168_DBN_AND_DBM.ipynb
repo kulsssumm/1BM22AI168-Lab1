{
  "nbformat": 4,
  "nbformat_minor": 0,
  "metadata": {
    "colab": {
      "provenance": []
    },
    "kernelspec": {
      "name": "python3",
      "display_name": "Python 3"
    },
    "language_info": {
      "name": "python"
    }
  },
  "cells": [
    {
      "cell_type": "code",
      "execution_count": 1,
      "metadata": {
        "colab": {
          "base_uri": "https://localhost:8080/"
        },
        "id": "uLgkZ9z8F-OU",
        "outputId": "9075187e-6b26-4291-e37d-a37f514f1822"
      },
      "outputs": [
        {
          "output_type": "stream",
          "name": "stdout",
          "text": [
            "Weights after training (final layer):\n",
            "Parameter containing:\n",
            "tensor([[ 0.0409, -0.0984,  0.0220,  ..., -0.0331, -0.0493,  0.0584],\n",
            "        [ 0.0257, -0.0430,  0.0198,  ...,  0.0149,  0.1044,  0.0388],\n",
            "        [ 0.0055,  0.0468, -0.0536,  ...,  0.0462, -0.0384,  0.0566],\n",
            "        ...,\n",
            "        [ 0.0192,  0.0657,  0.0078,  ..., -0.0243, -0.0396,  0.0713],\n",
            "        [ 0.0946,  0.0946,  0.0295,  ...,  0.0060, -0.0691, -0.0602],\n",
            "        [-0.0607,  0.0398,  0.0181,  ...,  0.0615, -0.0879,  0.0245]],\n",
            "       requires_grad=True)\n"
          ]
        }
      ],
      "source": [
        "# DEEP BELEIF NETWORK (DBN)\n",
        "import torch\n",
        "import torch.nn as nn\n",
        "import torch.optim as optim\n",
        "class DBN(nn.Module):\n",
        "    def __init__(self, layer_sizes):\n",
        "        super().__init__()\n",
        "        self.layers = nn.ModuleList([nn.Linear(layer_sizes[i], layer_sizes[i+1]) for i in range(len(layer_sizes) - 1)])\n",
        "    def forward(self, x):\n",
        "        for layer in self.layers:\n",
        "            x = torch.sigmoid(layer(x))\n",
        "        return x\n",
        "    def fine_tune(self, X, y, epochs=5, lr=0.01):\n",
        "        self.fc = nn.Linear(self.layers[-1].out_features, len(torch.unique(torch.Tensor(y))))\n",
        "        opt, loss_fn = optim.Adam(self.parameters(), lr=lr), nn.CrossEntropyLoss()\n",
        "        data, targets = torch.Tensor(X), torch.LongTensor(y)\n",
        "        for epoch in range(epochs):\n",
        "            opt.zero_grad()\n",
        "            loss = loss_fn(self.fc(self(data)), targets)\n",
        "            loss.backward()\n",
        "            opt.step()\n",
        "        print(\"Weights after training (final layer):\")\n",
        "        print(self.fc.weight)\n",
        "layer_sizes, X_train, y_train = [784, 512, 256, 128], torch.randn(100, 784), torch.randint(0, 10, (100,))\n",
        "dbn = DBN(layer_sizes)\n",
        "dbn.fine_tune(X_train, y_train, epochs=5, lr=0.01)\n",
        "\n",
        "\n",
        "\n",
        "\n",
        "\n"
      ]
    },
    {
      "cell_type": "code",
      "source": [
        "# DEEP BOLTZMAN MACHINE (DBM)\n",
        "import torch\n",
        "import torch.nn as nn\n",
        "class DBM(nn.Module):\n",
        "    def __init__(self, vis_dim=784, hid_dims=[512, 256]):\n",
        "        super().__init__()\n",
        "        self.W1 = nn.Parameter(torch.randn(vis_dim, hid_dims[0]) * 0.1)\n",
        "        self.W2 = nn.Parameter(torch.randn(hid_dims[0], hid_dims[1]) * 0.1)\n",
        "    def sample(self, prob):\n",
        "        return torch.bernoulli(prob)\n",
        "    def forward(self, v):\n",
        "        h1_p = torch.sigmoid(v @ self.W1)\n",
        "        return h1_p\n",
        "if __name__ == \"__main__\":\n",
        "    vis_dim, lr, epochs = 784, 0.01, 5\n",
        "    dbm = DBM(vis_dim)\n",
        "    opt = torch.optim.Adam(dbm.parameters(), lr=lr)\n",
        "    for epoch in range(epochs):\n",
        "        data = torch.randint(0, 2, (32, vis_dim)).float()\n",
        "        h1_p = dbm(data)\n",
        "        if epoch == epochs - 1:\n",
        "            print(f\"Hidden Probabilities (h1_p) after training:\\n\", h1_p)"
      ],
      "metadata": {
        "colab": {
          "base_uri": "https://localhost:8080/"
        },
        "id": "1bOVTYGgHyLV",
        "outputId": "cb6a3eb9-1826-4fde-8f79-9ba01f130851"
      },
      "execution_count": 2,
      "outputs": [
        {
          "output_type": "stream",
          "name": "stdout",
          "text": [
            "Hidden Probabilities (h1_p) after training:\n",
            " tensor([[0.5285, 0.9618, 0.8458,  ..., 0.3180, 0.3659, 0.0327],\n",
            "        [0.3057, 0.9100, 0.1911,  ..., 0.2430, 0.2026, 0.1777],\n",
            "        [0.1861, 0.9123, 0.0597,  ..., 0.4813, 0.3495, 0.0109],\n",
            "        ...,\n",
            "        [0.0851, 0.8316, 0.1753,  ..., 0.8759, 0.3257, 0.2980],\n",
            "        [0.3168, 0.8193, 0.0438,  ..., 0.8137, 0.0257, 0.0286],\n",
            "        [0.3924, 0.5503, 0.2622,  ..., 0.1562, 0.5962, 0.1955]],\n",
            "       grad_fn=<SigmoidBackward0>)\n"
          ]
        }
      ]
    }
  ]
}